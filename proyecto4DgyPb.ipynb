{
  "nbformat": 4,
  "nbformat_minor": 0,
  "metadata": {
    "colab": {
      "name": "proyecto4DgyPb.ipynb",
      "provenance": [],
      "authorship_tag": "ABX9TyONFCV6gp//PJsBfpZ1FgqA",
      "include_colab_link": true
    },
    "kernelspec": {
      "name": "python3",
      "display_name": "Python 3"
    },
    "language_info": {
      "name": "python"
    }
  },
  "cells": [
    {
      "cell_type": "markdown",
      "metadata": {
        "id": "view-in-github",
        "colab_type": "text"
      },
      "source": [
        "<a href=\"https://colab.research.google.com/github/JeanCCA/ProyectoS4/blob/main/proyecto4DgyPb.ipynb\" target=\"_parent\"><img src=\"https://colab.research.google.com/assets/colab-badge.svg\" alt=\"Open In Colab\"/></a>"
      ]
    },
    {
      "cell_type": "code",
      "metadata": {
        "colab": {
          "base_uri": "https://localhost:8080/"
        },
        "id": "8R1KJnxOGH14",
        "outputId": "0a92ab42-fd7e-4f27-fafb-3efaeaf0db68"
      },
      "source": [
        "!pip install Pylint"
      ],
      "execution_count": 1,
      "outputs": [
        {
          "output_type": "stream",
          "text": [
            "Collecting Pylint\n",
            "  Downloading pylint-2.9.5-py3-none-any.whl (375 kB)\n",
            "\u001b[?25l\r\u001b[K     |▉                               | 10 kB 26.6 MB/s eta 0:00:01\r\u001b[K     |█▊                              | 20 kB 33.3 MB/s eta 0:00:01\r\u001b[K     |██▋                             | 30 kB 40.2 MB/s eta 0:00:01\r\u001b[K     |███▌                            | 40 kB 40.4 MB/s eta 0:00:01\r\u001b[K     |████▍                           | 51 kB 36.0 MB/s eta 0:00:01\r\u001b[K     |█████▎                          | 61 kB 33.2 MB/s eta 0:00:01\r\u001b[K     |██████▏                         | 71 kB 27.7 MB/s eta 0:00:01\r\u001b[K     |███████                         | 81 kB 27.7 MB/s eta 0:00:01\r\u001b[K     |███████▉                        | 92 kB 27.4 MB/s eta 0:00:01\r\u001b[K     |████████▊                       | 102 kB 29.0 MB/s eta 0:00:01\r\u001b[K     |█████████▋                      | 112 kB 29.0 MB/s eta 0:00:01\r\u001b[K     |██████████▌                     | 122 kB 29.0 MB/s eta 0:00:01\r\u001b[K     |███████████▍                    | 133 kB 29.0 MB/s eta 0:00:01\r\u001b[K     |████████████▎                   | 143 kB 29.0 MB/s eta 0:00:01\r\u001b[K     |█████████████                   | 153 kB 29.0 MB/s eta 0:00:01\r\u001b[K     |██████████████                  | 163 kB 29.0 MB/s eta 0:00:01\r\u001b[K     |██████████████▉                 | 174 kB 29.0 MB/s eta 0:00:01\r\u001b[K     |███████████████▊                | 184 kB 29.0 MB/s eta 0:00:01\r\u001b[K     |████████████████▋               | 194 kB 29.0 MB/s eta 0:00:01\r\u001b[K     |█████████████████▌              | 204 kB 29.0 MB/s eta 0:00:01\r\u001b[K     |██████████████████▍             | 215 kB 29.0 MB/s eta 0:00:01\r\u001b[K     |███████████████████▏            | 225 kB 29.0 MB/s eta 0:00:01\r\u001b[K     |████████████████████            | 235 kB 29.0 MB/s eta 0:00:01\r\u001b[K     |█████████████████████           | 245 kB 29.0 MB/s eta 0:00:01\r\u001b[K     |█████████████████████▉          | 256 kB 29.0 MB/s eta 0:00:01\r\u001b[K     |██████████████████████▊         | 266 kB 29.0 MB/s eta 0:00:01\r\u001b[K     |███████████████████████▋        | 276 kB 29.0 MB/s eta 0:00:01\r\u001b[K     |████████████████████████▌       | 286 kB 29.0 MB/s eta 0:00:01\r\u001b[K     |█████████████████████████▎      | 296 kB 29.0 MB/s eta 0:00:01\r\u001b[K     |██████████████████████████▏     | 307 kB 29.0 MB/s eta 0:00:01\r\u001b[K     |███████████████████████████     | 317 kB 29.0 MB/s eta 0:00:01\r\u001b[K     |████████████████████████████    | 327 kB 29.0 MB/s eta 0:00:01\r\u001b[K     |████████████████████████████▉   | 337 kB 29.0 MB/s eta 0:00:01\r\u001b[K     |█████████████████████████████▊  | 348 kB 29.0 MB/s eta 0:00:01\r\u001b[K     |██████████████████████████████▋ | 358 kB 29.0 MB/s eta 0:00:01\r\u001b[K     |███████████████████████████████▍| 368 kB 29.0 MB/s eta 0:00:01\r\u001b[K     |████████████████████████████████| 375 kB 29.0 MB/s \n",
            "\u001b[?25hCollecting mccabe<0.7,>=0.6\n",
            "  Downloading mccabe-0.6.1-py2.py3-none-any.whl (8.6 kB)\n",
            "Collecting isort<6,>=4.2.5\n",
            "  Downloading isort-5.9.2-py3-none-any.whl (105 kB)\n",
            "\u001b[K     |████████████████████████████████| 105 kB 61.4 MB/s \n",
            "\u001b[?25hCollecting astroid<2.7,>=2.6.5\n",
            "  Downloading astroid-2.6.5-py3-none-any.whl (231 kB)\n",
            "\u001b[K     |████████████████████████████████| 231 kB 42.9 MB/s \n",
            "\u001b[?25hRequirement already satisfied: toml>=0.7.1 in /usr/local/lib/python3.7/dist-packages (from Pylint) (0.10.2)\n",
            "Requirement already satisfied: typing-extensions>=3.7.4 in /usr/local/lib/python3.7/dist-packages (from astroid<2.7,>=2.6.5->Pylint) (3.7.4.3)\n",
            "Requirement already satisfied: setuptools>=20.0 in /usr/local/lib/python3.7/dist-packages (from astroid<2.7,>=2.6.5->Pylint) (57.2.0)\n",
            "Collecting typed-ast<1.5,>=1.4.0\n",
            "  Downloading typed_ast-1.4.3-cp37-cp37m-manylinux1_x86_64.whl (743 kB)\n",
            "\u001b[K     |████████████████████████████████| 743 kB 46.2 MB/s \n",
            "\u001b[?25hCollecting lazy-object-proxy>=1.4.0\n",
            "  Downloading lazy_object_proxy-1.6.0-cp37-cp37m-manylinux1_x86_64.whl (55 kB)\n",
            "\u001b[K     |████████████████████████████████| 55 kB 3.4 MB/s \n",
            "\u001b[?25hRequirement already satisfied: wrapt<1.13,>=1.11 in /usr/local/lib/python3.7/dist-packages (from astroid<2.7,>=2.6.5->Pylint) (1.12.1)\n",
            "Installing collected packages: typed-ast, lazy-object-proxy, mccabe, isort, astroid, Pylint\n",
            "Successfully installed Pylint-2.9.5 astroid-2.6.5 isort-5.9.2 lazy-object-proxy-1.6.0 mccabe-0.6.1 typed-ast-1.4.3\n"
          ],
          "name": "stdout"
        }
      ]
    },
    {
      "cell_type": "code",
      "metadata": {
        "colab": {
          "base_uri": "https://localhost:8080/"
        },
        "id": "EJTIPkutGLfA",
        "outputId": "96c6aff3-4c92-4f1c-9b97-4718e1d414c5"
      },
      "source": [
        "!pyreverse /content/proyecto4to3.py\n",
        "!dot -Tpng classes.dot -o classes.png "
      ],
      "execution_count": 7,
      "outputs": [
        {
          "output_type": "stream",
          "text": [
            "parsing /content/proyecto4to3.py...\n"
          ],
          "name": "stdout"
        }
      ]
    },
    {
      "cell_type": "code",
      "metadata": {
        "colab": {
          "base_uri": "https://localhost:8080/"
        },
        "id": "XPABknFlp2Xr",
        "outputId": "acd4c8bb-2d9b-48ce-9e0a-0fbb6f84c497"
      },
      "source": [
        "!pylint /content/proyecto4to3.py"
      ],
      "execution_count": 8,
      "outputs": [
        {
          "output_type": "stream",
          "text": [
            "************* Module proyecto4to3\n",
            "proyecto4to3.py:47:0: C0301: Line too long (119/100) (line-too-long)\n",
            "proyecto4to3.py:34:4: C0103: Constant name \"freq\" doesn't conform to UPPER_CASE naming style (invalid-name)\n",
            "proyecto4to3.py:39:12: C0103: Constant name \"freq\" doesn't conform to UPPER_CASE naming style (invalid-name)\n",
            "proyecto4to3.py:54:0: C0103: Constant name \"abc\" doesn't conform to UPPER_CASE naming style (invalid-name)\n",
            "proyecto4to3.py:56:4: C0103: Constant name \"abc\" doesn't conform to UPPER_CASE naming style (invalid-name)\n",
            "proyecto4to3.py:10:0: W0611: Unused numpy imported as np (unused-import)\n",
            "proyecto4to3.py:11:0: W0611: Unused pandas imported as pd (unused-import)\n",
            "proyecto4to3.py:12:0: W0611: Unused path imported from os (unused-import)\n",
            "proyecto4to3.py:13:0: W0611: Unused Image imported from PIL (unused-import)\n",
            "proyecto4to3.py:14:0: W0611: Unused STOPWORDS imported from wordcloud (unused-import)\n",
            "proyecto4to3.py:14:0: W0611: Unused ImageColorGenerator imported from wordcloud (unused-import)\n",
            "proyecto4to3.py:12:0: C0411: standard import \"from os import path\" should be placed before \"import numpy as np\" (wrong-import-order)\n",
            "\n",
            "-----------------------------------\n",
            "Your code has been rated at 6.67/10\n",
            "\n"
          ],
          "name": "stdout"
        }
      ]
    }
  ]
}