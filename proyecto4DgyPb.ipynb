{
  "nbformat": 4,
  "nbformat_minor": 0,
  "metadata": {
    "colab": {
      "name": "proyecto4DgyPb.ipynb",
      "provenance": [],
      "include_colab_link": true
    },
    "kernelspec": {
      "name": "python3",
      "display_name": "Python 3"
    },
    "language_info": {
      "name": "python"
    }
  },
  "cells": [
    {
      "cell_type": "markdown",
      "metadata": {
        "id": "view-in-github",
        "colab_type": "text"
      },
      "source": [
        "<a href=\"https://colab.research.google.com/github/JeanCCA/ProyectoS4/blob/main/proyecto4DgyPb.ipynb\" target=\"_parent\"><img src=\"https://colab.research.google.com/assets/colab-badge.svg\" alt=\"Open In Colab\"/></a>"
      ]
    },
    {
      "cell_type": "code",
      "metadata": {
        "colab": {
          "base_uri": "https://localhost:8080/"
        },
        "id": "8R1KJnxOGH14",
        "outputId": "ed24501f-f1e8-4bda-dc3c-8108a77b84ba"
      },
      "source": [
        "!pip install Pylint"
      ],
      "execution_count": 1,
      "outputs": [
        {
          "output_type": "stream",
          "text": [
            "Collecting Pylint\n",
            "  Downloading pylint-2.9.6-py3-none-any.whl (375 kB)\n",
            "\u001b[?25l\r\u001b[K     |▉                               | 10 kB 28.2 MB/s eta 0:00:01\r\u001b[K     |█▊                              | 20 kB 34.9 MB/s eta 0:00:01\r\u001b[K     |██▋                             | 30 kB 40.7 MB/s eta 0:00:01\r\u001b[K     |███▌                            | 40 kB 34.5 MB/s eta 0:00:01\r\u001b[K     |████▍                           | 51 kB 18.3 MB/s eta 0:00:01\r\u001b[K     |█████▎                          | 61 kB 19.5 MB/s eta 0:00:01\r\u001b[K     |██████▏                         | 71 kB 14.2 MB/s eta 0:00:01\r\u001b[K     |███████                         | 81 kB 15.5 MB/s eta 0:00:01\r\u001b[K     |███████▉                        | 92 kB 16.8 MB/s eta 0:00:01\r\u001b[K     |████████▊                       | 102 kB 14.9 MB/s eta 0:00:01\r\u001b[K     |█████████▋                      | 112 kB 14.9 MB/s eta 0:00:01\r\u001b[K     |██████████▌                     | 122 kB 14.9 MB/s eta 0:00:01\r\u001b[K     |███████████▍                    | 133 kB 14.9 MB/s eta 0:00:01\r\u001b[K     |████████████▎                   | 143 kB 14.9 MB/s eta 0:00:01\r\u001b[K     |█████████████                   | 153 kB 14.9 MB/s eta 0:00:01\r\u001b[K     |██████████████                  | 163 kB 14.9 MB/s eta 0:00:01\r\u001b[K     |██████████████▉                 | 174 kB 14.9 MB/s eta 0:00:01\r\u001b[K     |███████████████▊                | 184 kB 14.9 MB/s eta 0:00:01\r\u001b[K     |████████████████▋               | 194 kB 14.9 MB/s eta 0:00:01\r\u001b[K     |█████████████████▌              | 204 kB 14.9 MB/s eta 0:00:01\r\u001b[K     |██████████████████▍             | 215 kB 14.9 MB/s eta 0:00:01\r\u001b[K     |███████████████████▏            | 225 kB 14.9 MB/s eta 0:00:01\r\u001b[K     |████████████████████            | 235 kB 14.9 MB/s eta 0:00:01\r\u001b[K     |█████████████████████           | 245 kB 14.9 MB/s eta 0:00:01\r\u001b[K     |█████████████████████▉          | 256 kB 14.9 MB/s eta 0:00:01\r\u001b[K     |██████████████████████▊         | 266 kB 14.9 MB/s eta 0:00:01\r\u001b[K     |███████████████████████▋        | 276 kB 14.9 MB/s eta 0:00:01\r\u001b[K     |████████████████████████▌       | 286 kB 14.9 MB/s eta 0:00:01\r\u001b[K     |█████████████████████████▎      | 296 kB 14.9 MB/s eta 0:00:01\r\u001b[K     |██████████████████████████▏     | 307 kB 14.9 MB/s eta 0:00:01\r\u001b[K     |███████████████████████████     | 317 kB 14.9 MB/s eta 0:00:01\r\u001b[K     |████████████████████████████    | 327 kB 14.9 MB/s eta 0:00:01\r\u001b[K     |████████████████████████████▉   | 337 kB 14.9 MB/s eta 0:00:01\r\u001b[K     |█████████████████████████████▊  | 348 kB 14.9 MB/s eta 0:00:01\r\u001b[K     |██████████████████████████████▋ | 358 kB 14.9 MB/s eta 0:00:01\r\u001b[K     |███████████████████████████████▍| 368 kB 14.9 MB/s eta 0:00:01\r\u001b[K     |████████████████████████████████| 375 kB 14.9 MB/s \n",
            "\u001b[?25hCollecting mccabe<0.7,>=0.6\n",
            "  Downloading mccabe-0.6.1-py2.py3-none-any.whl (8.6 kB)\n",
            "Collecting isort<6,>=4.2.5\n",
            "  Downloading isort-5.9.2-py3-none-any.whl (105 kB)\n",
            "\u001b[K     |████████████████████████████████| 105 kB 80.9 MB/s \n",
            "\u001b[?25hCollecting astroid<2.7,>=2.6.5\n",
            "  Downloading astroid-2.6.5-py3-none-any.whl (231 kB)\n",
            "\u001b[K     |████████████████████████████████| 231 kB 89.0 MB/s \n",
            "\u001b[?25hRequirement already satisfied: toml>=0.7.1 in /usr/local/lib/python3.7/dist-packages (from Pylint) (0.10.2)\n",
            "Requirement already satisfied: typing-extensions>=3.7.4 in /usr/local/lib/python3.7/dist-packages (from astroid<2.7,>=2.6.5->Pylint) (3.7.4.3)\n",
            "Requirement already satisfied: wrapt<1.13,>=1.11 in /usr/local/lib/python3.7/dist-packages (from astroid<2.7,>=2.6.5->Pylint) (1.12.1)\n",
            "Collecting typed-ast<1.5,>=1.4.0\n",
            "  Downloading typed_ast-1.4.3-cp37-cp37m-manylinux1_x86_64.whl (743 kB)\n",
            "\u001b[K     |████████████████████████████████| 743 kB 57.0 MB/s \n",
            "\u001b[?25hRequirement already satisfied: setuptools>=20.0 in /usr/local/lib/python3.7/dist-packages (from astroid<2.7,>=2.6.5->Pylint) (57.2.0)\n",
            "Collecting lazy-object-proxy>=1.4.0\n",
            "  Downloading lazy_object_proxy-1.6.0-cp37-cp37m-manylinux1_x86_64.whl (55 kB)\n",
            "\u001b[K     |████████████████████████████████| 55 kB 3.2 MB/s \n",
            "\u001b[?25hInstalling collected packages: typed-ast, lazy-object-proxy, mccabe, isort, astroid, Pylint\n",
            "Successfully installed Pylint-2.9.6 astroid-2.6.5 isort-5.9.2 lazy-object-proxy-1.6.0 mccabe-0.6.1 typed-ast-1.4.3\n"
          ],
          "name": "stdout"
        }
      ]
    },
    {
      "cell_type": "code",
      "metadata": {
        "colab": {
          "base_uri": "https://localhost:8080/"
        },
        "id": "EJTIPkutGLfA",
        "outputId": "8f9fb13d-295f-4693-d51a-b4f82bc85883"
      },
      "source": [
        "!pyreverse /content/proyecto4toF.py\n",
        "!dot -Tpng classes.dot -o classes.png "
      ],
      "execution_count": 2,
      "outputs": [
        {
          "output_type": "stream",
          "text": [
            "parsing /content/proyecto4toF.py...\n"
          ],
          "name": "stdout"
        }
      ]
    },
    {
      "cell_type": "code",
      "metadata": {
        "colab": {
          "base_uri": "https://localhost:8080/"
        },
        "id": "XPABknFlp2Xr",
        "outputId": "941f6312-95a3-44d7-d46e-d4c5a97b033d"
      },
      "source": [
        "!pylint /content/proyecto4toF.py"
      ],
      "execution_count": 3,
      "outputs": [
        {
          "output_type": "stream",
          "text": [
            "************* Module proyecto4toF\n",
            "proyecto4toF.py:89:0: C0301: Line too long (123/100) (line-too-long)\n",
            "proyecto4toF.py:94:0: C0303: Trailing whitespace (trailing-whitespace)\n",
            "proyecto4toF.py:98:0: C0304: Final newline missing (missing-final-newline)\n",
            "proyecto4toF.py:1:0: C0103: Module name \"proyecto4toF\" doesn't conform to snake_case naming style (invalid-name)\n",
            "proyecto4toF.py:20:0: R0903: Too few public methods (0/2) (too-few-public-methods)\n",
            "proyecto4toF.py:33:0: R0903: Too few public methods (0/2) (too-few-public-methods)\n",
            "proyecto4toF.py:78:40: W0621: Redefining name 'diccionario' from outer scope (line 72) (redefined-outer-name)\n",
            "proyecto4toF.py:87:0: R0903: Too few public methods (0/2) (too-few-public-methods)\n",
            "proyecto4toF.py:13:0: W0611: Unused STOPWORDS imported from wordcloud (unused-import)\n",
            "proyecto4toF.py:13:0: W0611: Unused ImageColorGenerator imported from wordcloud (unused-import)\n",
            "\n",
            "-----------------------------------\n",
            "Your code has been rated at 8.25/10\n",
            "\n"
          ],
          "name": "stdout"
        }
      ]
    }
  ]
}